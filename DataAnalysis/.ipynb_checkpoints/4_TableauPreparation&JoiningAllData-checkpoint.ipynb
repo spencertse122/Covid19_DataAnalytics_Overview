{
 "cells": [
  {
   "cell_type": "markdown",
   "metadata": {},
   "source": [
    "# Joining All Data & Tableau Preparation"
   ]
  },
  {
   "cell_type": "markdown",
   "metadata": {},
   "source": [
    "This notebook is intended for joining all the processed data from previous notebook,mold them into shapes that fit into one table for a join, and load into Google Sheet for a Tableau Public Visualization.\n",
    "\n",
    "P.S. Checkout previous notebooks for more detailed data processing"
   ]
  },
  {
   "cell_type": "code",
   "execution_count": 1,
   "metadata": {},
   "outputs": [],
   "source": [
    "# Importing libraries\n",
    "import glob  #using glob to get all the (forJoins) csv files\n",
    "import pandas as pd\n",
    "from datetime import datetime"
   ]
  },
  {
   "cell_type": "code",
   "execution_count": 4,
   "metadata": {},
   "outputs": [
    {
     "name": "stdout",
     "output_type": "stream",
     "text": [
      "FlatData\\(forJoins)covid19_tweets.csv\n",
      "FlatData\\(forJoins)CumCovidCases.csv\n",
      "FlatData\\(forJoins)DailyCovidCases.csv\n",
      "FlatData\\(forJoins)ZillowPropertyValueData.csv\n"
     ]
    }
   ],
   "source": [
    "# Reading in all the data together\n",
    "dfs = []\n",
    "for i in glob.glob(\"FlatData/(forJoins)*\"):\n",
    "    print(i)\n",
    "    df = pd.read_csv(i)\n",
    "    dfs.append(df)"
   ]
  },
  {
   "cell_type": "markdown",
   "metadata": {},
   "source": [
    "## Shaping the Daily Covid Data for Tableau"
   ]
  },
  {
   "cell_type": "code",
   "execution_count": 18,
   "metadata": {},
   "outputs": [],
   "source": [
    "CovidDf = dfs[2].copy()\n",
    "CovidDf_cum = dfs[1].copy()"
   ]
  },
  {
   "cell_type": "code",
   "execution_count": 19,
   "metadata": {},
   "outputs": [],
   "source": [
    "meltCol = []\n",
    "for i in range(1, len(CovidDf.columns)):\n",
    "    meltCol.append(CovidDf.columns[i])"
   ]
  },
  {
   "cell_type": "code",
   "execution_count": 20,
   "metadata": {},
   "outputs": [],
   "source": [
    "# Trimming Date range\n",
    "CovidDf = CovidDf.rename(columns={'Unnamed: 0':'date'})\n",
    "CovidDf['date'] = pd.to_datetime(CovidDf['date'])\n",
    "\n",
    "CovidDf = CovidDf[CovidDf['date'] >= datetime(2020,2,1)]\n",
    "\n",
    "\n",
    "\n",
    "CovidDf_cum = CovidDf_cum.rename(columns={'Unnamed: 0':'date'})\n",
    "CovidDf_cum['date'] = pd.to_datetime(CovidDf_cum['date'])\n",
    "\n",
    "CovidDf_cum = CovidDf_cum[CovidDf_cum['date'] >= datetime(2020,2,1)]"
   ]
  },
  {
   "cell_type": "code",
   "execution_count": 27,
   "metadata": {},
   "outputs": [],
   "source": [
    "# Getting frames of cumulative cases and daily cases ready\n",
    "\n",
    "meltedDailyCases1 = pd.melt(CovidDf, \n",
    "                            id_vars=['date'], \n",
    "                            value_vars=meltCol)\n",
    "\n",
    "meltedDailyCases2 = pd.melt(CovidDf_cum, \n",
    "                            id_vars=['date'], \n",
    "                            value_vars=meltCol)"
   ]
  },
  {
   "cell_type": "code",
   "execution_count": 29,
   "metadata": {},
   "outputs": [],
   "source": [
    "meltedDailyCases = pd.merge(meltedDailyCases1,\n",
    "                            meltedDailyCases2,\n",
    "                            left_on=['date', 'variable'],\n",
    "                            right_on=['date', 'variable'])"
   ]
  },
  {
   "cell_type": "code",
   "execution_count": 30,
   "metadata": {},
   "outputs": [
    {
     "data": {
      "text/html": [
       "<div>\n",
       "<style scoped>\n",
       "    .dataframe tbody tr th:only-of-type {\n",
       "        vertical-align: middle;\n",
       "    }\n",
       "\n",
       "    .dataframe tbody tr th {\n",
       "        vertical-align: top;\n",
       "    }\n",
       "\n",
       "    .dataframe thead th {\n",
       "        text-align: right;\n",
       "    }\n",
       "</style>\n",
       "<table border=\"1\" class=\"dataframe\">\n",
       "  <thead>\n",
       "    <tr style=\"text-align: right;\">\n",
       "      <th></th>\n",
       "      <th>date</th>\n",
       "      <th>State</th>\n",
       "      <th>DailyCases</th>\n",
       "      <th>TotalCases</th>\n",
       "    </tr>\n",
       "  </thead>\n",
       "  <tbody>\n",
       "    <tr>\n",
       "      <td>0</td>\n",
       "      <td>2020-02-01</td>\n",
       "      <td>Alabama</td>\n",
       "      <td>0.0</td>\n",
       "      <td>0</td>\n",
       "    </tr>\n",
       "    <tr>\n",
       "      <td>1</td>\n",
       "      <td>2020-02-02</td>\n",
       "      <td>Alabama</td>\n",
       "      <td>0.0</td>\n",
       "      <td>0</td>\n",
       "    </tr>\n",
       "    <tr>\n",
       "      <td>2</td>\n",
       "      <td>2020-02-03</td>\n",
       "      <td>Alabama</td>\n",
       "      <td>0.0</td>\n",
       "      <td>0</td>\n",
       "    </tr>\n",
       "    <tr>\n",
       "      <td>3</td>\n",
       "      <td>2020-02-04</td>\n",
       "      <td>Alabama</td>\n",
       "      <td>0.0</td>\n",
       "      <td>0</td>\n",
       "    </tr>\n",
       "    <tr>\n",
       "      <td>4</td>\n",
       "      <td>2020-02-05</td>\n",
       "      <td>Alabama</td>\n",
       "      <td>0.0</td>\n",
       "      <td>0</td>\n",
       "    </tr>\n",
       "    <tr>\n",
       "      <td>...</td>\n",
       "      <td>...</td>\n",
       "      <td>...</td>\n",
       "      <td>...</td>\n",
       "      <td>...</td>\n",
       "    </tr>\n",
       "    <tr>\n",
       "      <td>12059</td>\n",
       "      <td>2020-08-22</td>\n",
       "      <td>Wyoming</td>\n",
       "      <td>19.0</td>\n",
       "      <td>3543</td>\n",
       "    </tr>\n",
       "    <tr>\n",
       "      <td>12060</td>\n",
       "      <td>2020-08-23</td>\n",
       "      <td>Wyoming</td>\n",
       "      <td>35.0</td>\n",
       "      <td>3578</td>\n",
       "    </tr>\n",
       "    <tr>\n",
       "      <td>12061</td>\n",
       "      <td>2020-08-24</td>\n",
       "      <td>Wyoming</td>\n",
       "      <td>25.0</td>\n",
       "      <td>3603</td>\n",
       "    </tr>\n",
       "    <tr>\n",
       "      <td>12062</td>\n",
       "      <td>2020-08-25</td>\n",
       "      <td>Wyoming</td>\n",
       "      <td>29.0</td>\n",
       "      <td>3632</td>\n",
       "    </tr>\n",
       "    <tr>\n",
       "      <td>12063</td>\n",
       "      <td>2020-08-26</td>\n",
       "      <td>Wyoming</td>\n",
       "      <td>48.0</td>\n",
       "      <td>3680</td>\n",
       "    </tr>\n",
       "  </tbody>\n",
       "</table>\n",
       "<p>12064 rows × 4 columns</p>\n",
       "</div>"
      ],
      "text/plain": [
       "            date    State  DailyCases  TotalCases\n",
       "0     2020-02-01  Alabama         0.0           0\n",
       "1     2020-02-02  Alabama         0.0           0\n",
       "2     2020-02-03  Alabama         0.0           0\n",
       "3     2020-02-04  Alabama         0.0           0\n",
       "4     2020-02-05  Alabama         0.0           0\n",
       "...          ...      ...         ...         ...\n",
       "12059 2020-08-22  Wyoming        19.0        3543\n",
       "12060 2020-08-23  Wyoming        35.0        3578\n",
       "12061 2020-08-24  Wyoming        25.0        3603\n",
       "12062 2020-08-25  Wyoming        29.0        3632\n",
       "12063 2020-08-26  Wyoming        48.0        3680\n",
       "\n",
       "[12064 rows x 4 columns]"
      ]
     },
     "execution_count": 30,
     "metadata": {},
     "output_type": "execute_result"
    }
   ],
   "source": [
    "meltedDailyCases = meltedDailyCases.rename(columns={\"variable\":\"State\",\n",
    "                                                    \"value_x\":\"DailyCases\",\n",
    "                                                    \"value_y\":\"TotalCases\"})\n",
    "\n",
    "meltedDailyCases"
   ]
  },
  {
   "cell_type": "markdown",
   "metadata": {},
   "source": [
    "## Shaping the Real Estates Prices for Tableau"
   ]
  },
  {
   "cell_type": "code",
   "execution_count": 31,
   "metadata": {},
   "outputs": [],
   "source": [
    "RealEstateDf = dfs[3].copy()"
   ]
  },
  {
   "cell_type": "code",
   "execution_count": 32,
   "metadata": {},
   "outputs": [],
   "source": [
    "RealEstateDf = RealEstateDf.rename(columns={'Unnamed: 0':'date'})\n",
    "RealEstateDf['date'] = pd.to_datetime(RealEstateDf['date'])\n",
    "\n",
    "RealEstateDf = RealEstateDf[RealEstateDf['date'] >= datetime(2020,2,1)]"
   ]
  },
  {
   "cell_type": "code",
   "execution_count": 33,
   "metadata": {},
   "outputs": [],
   "source": [
    "meltCol2 = []\n",
    "for i in range(1, len(RealEstateDf.columns)):\n",
    "    meltCol2.append(RealEstateDf.columns[i])"
   ]
  },
  {
   "cell_type": "code",
   "execution_count": 34,
   "metadata": {},
   "outputs": [],
   "source": [
    "meltedRealEstates = pd.melt(RealEstateDf, \n",
    "                            id_vars=['date'], \n",
    "                            value_vars=meltCol2)"
   ]
  },
  {
   "cell_type": "code",
   "execution_count": 35,
   "metadata": {},
   "outputs": [
    {
     "data": {
      "text/html": [
       "<div>\n",
       "<style scoped>\n",
       "    .dataframe tbody tr th:only-of-type {\n",
       "        vertical-align: middle;\n",
       "    }\n",
       "\n",
       "    .dataframe tbody tr th {\n",
       "        vertical-align: top;\n",
       "    }\n",
       "\n",
       "    .dataframe thead th {\n",
       "        text-align: right;\n",
       "    }\n",
       "</style>\n",
       "<table border=\"1\" class=\"dataframe\">\n",
       "  <thead>\n",
       "    <tr style=\"text-align: right;\">\n",
       "      <th></th>\n",
       "      <th>date</th>\n",
       "      <th>State</th>\n",
       "      <th>RealEstateValues</th>\n",
       "    </tr>\n",
       "  </thead>\n",
       "  <tbody>\n",
       "    <tr>\n",
       "      <td>0</td>\n",
       "      <td>2020-02-29</td>\n",
       "      <td>Alabama</td>\n",
       "      <td>130623.047619</td>\n",
       "    </tr>\n",
       "    <tr>\n",
       "      <td>1</td>\n",
       "      <td>2020-03-31</td>\n",
       "      <td>Alabama</td>\n",
       "      <td>131203.380952</td>\n",
       "    </tr>\n",
       "    <tr>\n",
       "      <td>2</td>\n",
       "      <td>2020-04-30</td>\n",
       "      <td>Alabama</td>\n",
       "      <td>131796.857143</td>\n",
       "    </tr>\n",
       "    <tr>\n",
       "      <td>3</td>\n",
       "      <td>2020-05-31</td>\n",
       "      <td>Alabama</td>\n",
       "      <td>132456.285714</td>\n",
       "    </tr>\n",
       "    <tr>\n",
       "      <td>4</td>\n",
       "      <td>2020-06-30</td>\n",
       "      <td>Alabama</td>\n",
       "      <td>133160.000000</td>\n",
       "    </tr>\n",
       "    <tr>\n",
       "      <td>...</td>\n",
       "      <td>...</td>\n",
       "      <td>...</td>\n",
       "      <td>...</td>\n",
       "    </tr>\n",
       "    <tr>\n",
       "      <td>301</td>\n",
       "      <td>2020-03-31</td>\n",
       "      <td>Wyoming</td>\n",
       "      <td>297820.888889</td>\n",
       "    </tr>\n",
       "    <tr>\n",
       "      <td>302</td>\n",
       "      <td>2020-04-30</td>\n",
       "      <td>Wyoming</td>\n",
       "      <td>298070.888889</td>\n",
       "    </tr>\n",
       "    <tr>\n",
       "      <td>303</td>\n",
       "      <td>2020-05-31</td>\n",
       "      <td>Wyoming</td>\n",
       "      <td>298086.222222</td>\n",
       "    </tr>\n",
       "    <tr>\n",
       "      <td>304</td>\n",
       "      <td>2020-06-30</td>\n",
       "      <td>Wyoming</td>\n",
       "      <td>298084.222222</td>\n",
       "    </tr>\n",
       "    <tr>\n",
       "      <td>305</td>\n",
       "      <td>2020-07-31</td>\n",
       "      <td>Wyoming</td>\n",
       "      <td>297954.000000</td>\n",
       "    </tr>\n",
       "  </tbody>\n",
       "</table>\n",
       "<p>306 rows × 3 columns</p>\n",
       "</div>"
      ],
      "text/plain": [
       "          date    State  RealEstateValues\n",
       "0   2020-02-29  Alabama     130623.047619\n",
       "1   2020-03-31  Alabama     131203.380952\n",
       "2   2020-04-30  Alabama     131796.857143\n",
       "3   2020-05-31  Alabama     132456.285714\n",
       "4   2020-06-30  Alabama     133160.000000\n",
       "..         ...      ...               ...\n",
       "301 2020-03-31  Wyoming     297820.888889\n",
       "302 2020-04-30  Wyoming     298070.888889\n",
       "303 2020-05-31  Wyoming     298086.222222\n",
       "304 2020-06-30  Wyoming     298084.222222\n",
       "305 2020-07-31  Wyoming     297954.000000\n",
       "\n",
       "[306 rows x 3 columns]"
      ]
     },
     "execution_count": 35,
     "metadata": {},
     "output_type": "execute_result"
    }
   ],
   "source": [
    "meltedRealEstates = meltedRealEstates.rename(columns={\"variable\":\"State\",\n",
    "                                                      \"value\":\"RealEstateValues\"})\n",
    "\n",
    "meltedRealEstates"
   ]
  },
  {
   "cell_type": "markdown",
   "metadata": {},
   "source": [
    "## Shaping the Covid Sentiment for Tableau"
   ]
  },
  {
   "cell_type": "code",
   "execution_count": 36,
   "metadata": {
    "scrolled": true
   },
   "outputs": [
    {
     "data": {
      "text/plain": [
       "count    24.000000\n",
       "mean      1.944725\n",
       "std       0.025244\n",
       "min       1.879900\n",
       "25%       1.935350\n",
       "50%       1.946400\n",
       "75%       1.966925\n",
       "max       1.980900\n",
       "Name: VaderRange, dtype: float64"
      ]
     },
     "execution_count": 36,
     "metadata": {},
     "output_type": "execute_result"
    }
   ],
   "source": [
    "CovidSentiment = dfs[0].copy()\n",
    "CovidSentiment['VaderRange'] = CovidSentiment['VaderMax'] - CovidSentiment['VaderMin']\n",
    "\n",
    "# This shows how extreme people's sentiments are during the pandemic\n",
    "# Most people have strong reaction, and the sentiment is very polarized\n",
    "CovidSentiment['VaderRange'].describe()"
   ]
  },
  {
   "cell_type": "code",
   "execution_count": 37,
   "metadata": {
    "scrolled": false
   },
   "outputs": [],
   "source": [
    "CovidSentiment['date'] = pd.to_datetime(CovidSentiment['date'])"
   ]
  },
  {
   "cell_type": "markdown",
   "metadata": {},
   "source": [
    "## Pulling Stock Data For Tableau"
   ]
  },
  {
   "cell_type": "code",
   "execution_count": 38,
   "metadata": {},
   "outputs": [],
   "source": [
    "import sys\n",
    "sys.path.append(\"..\")\n",
    "\n",
    "from DataCollection import StockDataCollection"
   ]
  },
  {
   "cell_type": "code",
   "execution_count": 39,
   "metadata": {},
   "outputs": [],
   "source": [
    "# Getting the API key from txt file\n",
    "with open('../DataCollection/SecretKeys/FreeAlphavantageKey.txt', 'r') as file:\n",
    "    key = file.read().replace('\\n', '')"
   ]
  },
  {
   "cell_type": "code",
   "execution_count": 40,
   "metadata": {},
   "outputs": [],
   "source": [
    "StockToLookAt = \"SPY\"\n",
    "\n",
    "Connector = StockDataCollection.ConnectAPI(key=key)\n",
    "SP500 = StockDataCollection.DataHandle.DataTrimmer(Connector.LoadingData(StockToLookAt, FullHistory=True))"
   ]
  },
  {
   "cell_type": "code",
   "execution_count": 41,
   "metadata": {},
   "outputs": [],
   "source": [
    "StockData = pd.DataFrame(SP500)\n",
    "StockData = StockData.reset_index()\n",
    "StockData = StockData.rename(columns={'SPY':'Stock Market', 'index':'date'})\n",
    "StockData = StockData[StockData['date'] >= datetime(2020,2,1)]"
   ]
  },
  {
   "cell_type": "code",
   "execution_count": 42,
   "metadata": {},
   "outputs": [
    {
     "data": {
      "text/html": [
       "<div>\n",
       "<style scoped>\n",
       "    .dataframe tbody tr th:only-of-type {\n",
       "        vertical-align: middle;\n",
       "    }\n",
       "\n",
       "    .dataframe tbody tr th {\n",
       "        vertical-align: top;\n",
       "    }\n",
       "\n",
       "    .dataframe thead th {\n",
       "        text-align: right;\n",
       "    }\n",
       "</style>\n",
       "<table border=\"1\" class=\"dataframe\">\n",
       "  <thead>\n",
       "    <tr style=\"text-align: right;\">\n",
       "      <th></th>\n",
       "      <th>date</th>\n",
       "      <th>Stock Market</th>\n",
       "    </tr>\n",
       "  </thead>\n",
       "  <tbody>\n",
       "    <tr>\n",
       "      <td>21</td>\n",
       "      <td>2020-02-03</td>\n",
       "      <td>324.12</td>\n",
       "    </tr>\n",
       "    <tr>\n",
       "      <td>22</td>\n",
       "      <td>2020-02-04</td>\n",
       "      <td>329.06</td>\n",
       "    </tr>\n",
       "    <tr>\n",
       "      <td>23</td>\n",
       "      <td>2020-02-05</td>\n",
       "      <td>332.86</td>\n",
       "    </tr>\n",
       "    <tr>\n",
       "      <td>24</td>\n",
       "      <td>2020-02-06</td>\n",
       "      <td>333.98</td>\n",
       "    </tr>\n",
       "    <tr>\n",
       "      <td>25</td>\n",
       "      <td>2020-02-07</td>\n",
       "      <td>332.20</td>\n",
       "    </tr>\n",
       "    <tr>\n",
       "      <td>...</td>\n",
       "      <td>...</td>\n",
       "      <td>...</td>\n",
       "    </tr>\n",
       "    <tr>\n",
       "      <td>161</td>\n",
       "      <td>2020-08-21</td>\n",
       "      <td>339.48</td>\n",
       "    </tr>\n",
       "    <tr>\n",
       "      <td>162</td>\n",
       "      <td>2020-08-24</td>\n",
       "      <td>342.92</td>\n",
       "    </tr>\n",
       "    <tr>\n",
       "      <td>163</td>\n",
       "      <td>2020-08-25</td>\n",
       "      <td>344.12</td>\n",
       "    </tr>\n",
       "    <tr>\n",
       "      <td>164</td>\n",
       "      <td>2020-08-26</td>\n",
       "      <td>347.57</td>\n",
       "    </tr>\n",
       "    <tr>\n",
       "      <td>165</td>\n",
       "      <td>2020-08-27</td>\n",
       "      <td>348.33</td>\n",
       "    </tr>\n",
       "  </tbody>\n",
       "</table>\n",
       "<p>145 rows × 2 columns</p>\n",
       "</div>"
      ],
      "text/plain": [
       "          date  Stock Market\n",
       "21  2020-02-03        324.12\n",
       "22  2020-02-04        329.06\n",
       "23  2020-02-05        332.86\n",
       "24  2020-02-06        333.98\n",
       "25  2020-02-07        332.20\n",
       "..         ...           ...\n",
       "161 2020-08-21        339.48\n",
       "162 2020-08-24        342.92\n",
       "163 2020-08-25        344.12\n",
       "164 2020-08-26        347.57\n",
       "165 2020-08-27        348.33\n",
       "\n",
       "[145 rows x 2 columns]"
      ]
     },
     "execution_count": 42,
     "metadata": {},
     "output_type": "execute_result"
    }
   ],
   "source": [
    "StockData"
   ]
  },
  {
   "cell_type": "markdown",
   "metadata": {},
   "source": [
    "## Joining The Data"
   ]
  },
  {
   "cell_type": "code",
   "execution_count": 46,
   "metadata": {},
   "outputs": [],
   "source": [
    "# Joining Daily cases and Real Estates price data by date and Location\n",
    "# Using a left join because our goal is to study covid related movements\n",
    "\n",
    "JoinDf = pd.merge(meltedDailyCases, \n",
    "                  meltedRealEstates, \n",
    "                  how='left', \n",
    "                  left_on=['date','State'],\n",
    "                  right_on=['date','State'])\n",
    "\n",
    "\n",
    "# Since we only have monthly Real Estate Price data (update during the end of a month)\n",
    "# We will duplicate the value to fill the entire month\n",
    "\n",
    "JoinDf['RealEstateValues'] = JoinDf['RealEstateValues'].fillna(method='backfill')"
   ]
  },
  {
   "cell_type": "code",
   "execution_count": 47,
   "metadata": {},
   "outputs": [],
   "source": [
    "# Joining Stock Market index data with the first join output above\n",
    "JoinDf2 = pd.merge(JoinDf,\n",
    "                   StockData,\n",
    "                   how='left',\n",
    "                   left_on='date',\n",
    "                   right_on='date')"
   ]
  },
  {
   "cell_type": "code",
   "execution_count": 48,
   "metadata": {},
   "outputs": [],
   "source": [
    "# Filling in the weekends because the market is closed for the weekend\n",
    "JoinDf2['Stock Market'] = JoinDf2['Stock Market'].fillna(method='ffill')\n",
    "JoinDf2['Stock Market'] = JoinDf2['Stock Market'].fillna(method='bfill')"
   ]
  },
  {
   "cell_type": "code",
   "execution_count": 49,
   "metadata": {
    "scrolled": true
   },
   "outputs": [],
   "source": [
    "# Joining the final piece of Social Sentiment data\n",
    "OutputJoin = pd.merge(JoinDf2,\n",
    "                      CovidSentiment,\n",
    "                      how='left',\n",
    "                      left_on='date',\n",
    "                      right_on='date')"
   ]
  },
  {
   "cell_type": "code",
   "execution_count": 52,
   "metadata": {},
   "outputs": [],
   "source": [
    "# Getting values columns for cleaning so that we won't potentially mess up the others\n",
    "CleaningUseCol = CovidSentiment.columns[1:].tolist()"
   ]
  },
  {
   "cell_type": "code",
   "execution_count": 53,
   "metadata": {},
   "outputs": [],
   "source": [
    "# We use 0 to fill na here to show days that no one uses the hashtag covid19\n",
    "# Due to the unfinished nature of language subject data, there are days that\n",
    "# appeared to have no one tweeted about covid19\n",
    "# More validation is need for the Kaggle Data Source engineer\n",
    "\n",
    "OutputJoin[CleaningUseCol] = OutputJoin[CleaningUseCol].fillna(0)"
   ]
  },
  {
   "cell_type": "code",
   "execution_count": 54,
   "metadata": {
    "scrolled": true
   },
   "outputs": [],
   "source": [
    "OutputJoin['date'] = OutputJoin['date'].astype(str)"
   ]
  },
  {
   "cell_type": "code",
   "execution_count": 55,
   "metadata": {
    "scrolled": true
   },
   "outputs": [
    {
     "data": {
      "text/html": [
       "<div>\n",
       "<style scoped>\n",
       "    .dataframe tbody tr th:only-of-type {\n",
       "        vertical-align: middle;\n",
       "    }\n",
       "\n",
       "    .dataframe tbody tr th {\n",
       "        vertical-align: top;\n",
       "    }\n",
       "\n",
       "    .dataframe thead th {\n",
       "        text-align: right;\n",
       "    }\n",
       "</style>\n",
       "<table border=\"1\" class=\"dataframe\">\n",
       "  <thead>\n",
       "    <tr style=\"text-align: right;\">\n",
       "      <th></th>\n",
       "      <th>date</th>\n",
       "      <th>State</th>\n",
       "      <th>DailyCases</th>\n",
       "      <th>TotalCases</th>\n",
       "      <th>RealEstateValues</th>\n",
       "      <th>Stock Market</th>\n",
       "      <th>VaderMin</th>\n",
       "      <th>VaderMax</th>\n",
       "      <th>VaderMean</th>\n",
       "      <th>VaderRange</th>\n",
       "    </tr>\n",
       "  </thead>\n",
       "  <tbody>\n",
       "    <tr>\n",
       "      <td>0</td>\n",
       "      <td>2020-02-01</td>\n",
       "      <td>Alabama</td>\n",
       "      <td>0.0</td>\n",
       "      <td>0</td>\n",
       "      <td>130623.047619</td>\n",
       "      <td>324.12</td>\n",
       "      <td>0.0</td>\n",
       "      <td>0.0</td>\n",
       "      <td>0.0</td>\n",
       "      <td>0.0</td>\n",
       "    </tr>\n",
       "    <tr>\n",
       "      <td>1</td>\n",
       "      <td>2020-02-02</td>\n",
       "      <td>Alabama</td>\n",
       "      <td>0.0</td>\n",
       "      <td>0</td>\n",
       "      <td>130623.047619</td>\n",
       "      <td>324.12</td>\n",
       "      <td>0.0</td>\n",
       "      <td>0.0</td>\n",
       "      <td>0.0</td>\n",
       "      <td>0.0</td>\n",
       "    </tr>\n",
       "    <tr>\n",
       "      <td>2</td>\n",
       "      <td>2020-02-03</td>\n",
       "      <td>Alabama</td>\n",
       "      <td>0.0</td>\n",
       "      <td>0</td>\n",
       "      <td>130623.047619</td>\n",
       "      <td>324.12</td>\n",
       "      <td>0.0</td>\n",
       "      <td>0.0</td>\n",
       "      <td>0.0</td>\n",
       "      <td>0.0</td>\n",
       "    </tr>\n",
       "    <tr>\n",
       "      <td>3</td>\n",
       "      <td>2020-02-04</td>\n",
       "      <td>Alabama</td>\n",
       "      <td>0.0</td>\n",
       "      <td>0</td>\n",
       "      <td>130623.047619</td>\n",
       "      <td>329.06</td>\n",
       "      <td>0.0</td>\n",
       "      <td>0.0</td>\n",
       "      <td>0.0</td>\n",
       "      <td>0.0</td>\n",
       "    </tr>\n",
       "    <tr>\n",
       "      <td>4</td>\n",
       "      <td>2020-02-05</td>\n",
       "      <td>Alabama</td>\n",
       "      <td>0.0</td>\n",
       "      <td>0</td>\n",
       "      <td>130623.047619</td>\n",
       "      <td>332.86</td>\n",
       "      <td>0.0</td>\n",
       "      <td>0.0</td>\n",
       "      <td>0.0</td>\n",
       "      <td>0.0</td>\n",
       "    </tr>\n",
       "  </tbody>\n",
       "</table>\n",
       "</div>"
      ],
      "text/plain": [
       "         date    State  DailyCases  TotalCases  RealEstateValues  \\\n",
       "0  2020-02-01  Alabama         0.0           0     130623.047619   \n",
       "1  2020-02-02  Alabama         0.0           0     130623.047619   \n",
       "2  2020-02-03  Alabama         0.0           0     130623.047619   \n",
       "3  2020-02-04  Alabama         0.0           0     130623.047619   \n",
       "4  2020-02-05  Alabama         0.0           0     130623.047619   \n",
       "\n",
       "   Stock Market  VaderMin  VaderMax  VaderMean  VaderRange  \n",
       "0        324.12       0.0       0.0        0.0         0.0  \n",
       "1        324.12       0.0       0.0        0.0         0.0  \n",
       "2        324.12       0.0       0.0        0.0         0.0  \n",
       "3        329.06       0.0       0.0        0.0         0.0  \n",
       "4        332.86       0.0       0.0        0.0         0.0  "
      ]
     },
     "execution_count": 55,
     "metadata": {},
     "output_type": "execute_result"
    }
   ],
   "source": [
    "OutputJoin.head()"
   ]
  },
  {
   "cell_type": "markdown",
   "metadata": {},
   "source": [
    "## Uploading to Google Sheet"
   ]
  },
  {
   "cell_type": "markdown",
   "metadata": {},
   "source": [
    "As Tableau Public (the free version) doesn not support a database connection, we will have to use Google Sheet to avoid fragile flat file connections"
   ]
  },
  {
   "cell_type": "code",
   "execution_count": 56,
   "metadata": {},
   "outputs": [],
   "source": [
    "# Importing Google Sheet Connection Tool\n",
    "\n",
    "from DataCollection.GoogleSheetUpload import GoogleSheet"
   ]
  },
  {
   "cell_type": "code",
   "execution_count": 57,
   "metadata": {},
   "outputs": [],
   "source": [
    "# Establishing a connection with the API Key\n",
    "\n",
    "GoogleSheetBridge = GoogleSheet(key=\"../DataCollection/SecretKeys/tableaucoviddemo-f9907cac4544.json\",\n",
    "                                url=\"https://docs.google.com/spreadsheets/d/1no4IXxDRTBqvkm59CGLSLDz7SomSeCbdfpcRaNtQ83I/edit#gid=0\")\n",
    "GoogleSheetBridge.connect()"
   ]
  },
  {
   "cell_type": "code",
   "execution_count": 58,
   "metadata": {},
   "outputs": [],
   "source": [
    "GoogleSheetBridge.push_to_gsheet(OutputJoin, sheetname=\"main\")"
   ]
  },
  {
   "cell_type": "markdown",
   "metadata": {},
   "source": [
    "Please head to Tableau Public for the visualization"
   ]
  }
 ],
 "metadata": {
  "kernelspec": {
   "display_name": "Python 3",
   "language": "python",
   "name": "python3"
  },
  "language_info": {
   "codemirror_mode": {
    "name": "ipython",
    "version": 3
   },
   "file_extension": ".py",
   "mimetype": "text/x-python",
   "name": "python",
   "nbconvert_exporter": "python",
   "pygments_lexer": "ipython3",
   "version": "3.7.4"
  }
 },
 "nbformat": 4,
 "nbformat_minor": 2
}
