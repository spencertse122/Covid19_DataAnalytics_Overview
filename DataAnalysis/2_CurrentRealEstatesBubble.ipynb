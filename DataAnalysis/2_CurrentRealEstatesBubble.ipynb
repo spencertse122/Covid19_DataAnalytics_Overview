{
 "cells": [
  {
   "cell_type": "markdown",
   "metadata": {},
   "source": [
    "# Manipulating Zillow Real Estate data for a study to cross check if there is a Bubble"
   ]
  },
  {
   "cell_type": "markdown",
   "metadata": {},
   "source": [
    "Data Source: https://www.zillow.com/research/data/"
   ]
  },
  {
   "cell_type": "code",
   "execution_count": 8,
   "metadata": {},
   "outputs": [],
   "source": [
    "# Importing Libraries\n",
    "import pandas as pd\n",
    "import requests\n",
    "import matplotlib.pyplot as plt\n",
    "\n",
    "from bs4 import BeautifulSoup"
   ]
  },
  {
   "cell_type": "code",
   "execution_count": 9,
   "metadata": {},
   "outputs": [],
   "source": [
    "# Reading in Property Value Data by states\n",
    "df = pd.read_csv(\"FlatData/ZillowPropertyValueData(raw).csv\")\n",
    "\n",
    "# Getting Full State Names from the web for cleaning\n",
    "url = \"https://www.50states.com/abbreviations.htm\"\n",
    "\n",
    "response = requests.get(url)\n",
    "abbreviations = pd.read_html(response.text)[0]"
   ]
  },
  {
   "cell_type": "code",
   "execution_count": 10,
   "metadata": {
    "scrolled": true
   },
   "outputs": [],
   "source": [
    "# Changing the format to Dictionary for ease of use\n",
    "abbrev_dict = dict(zip(abbreviations['Abbreviation:'], abbreviations['US State:']))"
   ]
  },
  {
   "cell_type": "code",
   "execution_count": 11,
   "metadata": {},
   "outputs": [],
   "source": [
    "# Getting Government's Long Term debt interest rate data\n",
    "\n",
    "url = \"https://www.treasury.gov/resource-center/data-chart-center/interest-rates/Pages/TextView.aspx?data=longtermrateAll\"\n",
    "# url = \"https://data.treasury.gov/feed.svc/DailyTreasuryLongTermRateData\"\n",
    "response = requests.get(url)"
   ]
  },
  {
   "cell_type": "code",
   "execution_count": 12,
   "metadata": {},
   "outputs": [],
   "source": [
    "# Putting the BeautifulSoup html text into pandas dataframe\n",
    "soup = BeautifulSoup(response.content)\n",
    "table = soup.find('table')\n",
    "\n",
    "idf = pd.read_html(str(table))[2]"
   ]
  },
  {
   "cell_type": "code",
   "execution_count": 13,
   "metadata": {},
   "outputs": [],
   "source": [
    "# Small adjustment to dataframe\n",
    "idf['DATE'] = pd.to_datetime(idf['DATE'])\n",
    "\n",
    "idf = idf.rename(columns={'DATE':'date', 'LT COMPOSITE (>10 yrs)':'Interest Rate'})\n",
    "idf = idf.set_index('date')"
   ]
  },
  {
   "cell_type": "code",
   "execution_count": 14,
   "metadata": {},
   "outputs": [],
   "source": [
    "# Changing the interest rate to a monthly average for matching the Real Estate Data\n",
    "monthlyInterest = idf.resample('M').mean()"
   ]
  },
  {
   "cell_type": "code",
   "execution_count": 15,
   "metadata": {},
   "outputs": [],
   "source": [
    "def ElongateStateName(abbrev):\n",
    "    \"\"\"\n",
    "    This function will take the dictionary of abbreviations to get the full\n",
    "    State Name\n",
    "    \"\"\"\n",
    "    try:\n",
    "        output = abbrev_dict[abbrev]\n",
    "    except:\n",
    "        output = None\n",
    "    return output"
   ]
  },
  {
   "cell_type": "code",
   "execution_count": 16,
   "metadata": {
    "scrolled": true
   },
   "outputs": [],
   "source": [
    "df['StateNameL'] = df['StateName'].apply(ElongateStateName)"
   ]
  },
  {
   "cell_type": "code",
   "execution_count": 17,
   "metadata": {
    "scrolled": true
   },
   "outputs": [],
   "source": [
    "filtered_df = df.iloc[:,4:].groupby(\"StateNameL\").mean()\n",
    "Monthlydf = filtered_df.transpose()"
   ]
  },
  {
   "cell_type": "code",
   "execution_count": 18,
   "metadata": {},
   "outputs": [],
   "source": [
    "Monthlydf.index = pd.to_datetime(Monthlydf.index)"
   ]
  },
  {
   "cell_type": "markdown",
   "metadata": {},
   "source": [
    "## Are we in a Real Estate Bubble?"
   ]
  },
  {
   "cell_type": "markdown",
   "metadata": {},
   "source": [
    "Despite the economic close down, real estate prices continued to extend all time highs. Many suggested the work from home condition spiked demand for living spaces to accommodate more family members co-working at the same location. With the low interest rate incentives, real estate prices are sky rocketing."
   ]
  },
  {
   "cell_type": "code",
   "execution_count": 19,
   "metadata": {},
   "outputs": [],
   "source": [
    "# Put two data sets together for plotting\n",
    "\n",
    "plotdf = monthlyInterest.copy()\n",
    "plotdf['Real Estate Prices'] = Monthlydf.mean(axis=1)"
   ]
  },
  {
   "cell_type": "code",
   "execution_count": 21,
   "metadata": {},
   "outputs": [
    {
     "data": {
      "text/plain": [
       "<Figure size 432x288 with 0 Axes>"
      ]
     },
     "metadata": {},
     "output_type": "display_data"
    },
    {
     "data": {
      "image/png": "[encoded data removed]",
      "text/plain": [
       "<Figure size 432x288 with 2 Axes>"
      ]
     },
     "metadata": {
      "needs_background": "light"
     },
     "output_type": "display_data"
    }
   ],
   "source": [
    "fig = plt.figure()\n",
    "\n",
    "\n",
    "fig, ax = plt.subplots(1, 1)\n",
    "ax.plot(plotdf['Real Estate Prices'])\n",
    "\n",
    "ax.set_title(\"US Real Estate Price Trend\")\n",
    "ax.set_xlabel('Years')\n",
    "ax.set_ylabel('Average Real Estate Prices')\n",
    "ax.grid(True, axis='y')\n",
    "\n",
    "\n",
    "\n",
    "# .spines['left'].set_visible(False)\n",
    "\n",
    "ax1 = ax.twinx()\n",
    "ax1.set_ylabel(\"Interest Rate\")\n",
    "# ax1.plot(plotdf['Interest Rate'], color='orange')\n",
    "ax1.fill_between(plotdf.index, plotdf['Interest Rate'], color='orange', alpha=0.25)\n",
    "\n",
    "\n",
    "ax.spines['top'].set_visible(False)\n",
    "ax.spines['right'].set_visible(False)\n",
    "ax.spines['left'].set_visible(False)\n",
    "ax.spines['bottom'].set_visible(False)\n",
    "ax1.spines['top'].set_visible(False)\n",
    "ax1.spines['right'].set_visible(False)\n",
    "ax1.spines['left'].set_visible(False)\n",
    "ax1.spines['bottom'].set_visible(False)\n",
    "\n",
    "\n",
    "plt.show()"
   ]
  },
  {
   "cell_type": "markdown",
   "metadata": {},
   "source": [
    "This particular market looks like Covid19 has never experienced an outbreak"
   ]
  },
  {
   "cell_type": "markdown",
   "metadata": {},
   "source": [
    "## Exporting to csv for joins"
   ]
  },
  {
   "cell_type": "code",
   "execution_count": 22,
   "metadata": {},
   "outputs": [],
   "source": [
    "Monthlydf.to_csv(\"FlatData/(forJoins)ZillowPropertyValueData.csv\")"
   ]
  }
 ],
 "metadata": {
  "kernelspec": {
   "display_name": "Python 3",
   "language": "python",
   "name": "python3"
  },
  "language_info": {
   "codemirror_mode": {
    "name": "ipython",
    "version": 3
   },
   "file_extension": ".py",
   "mimetype": "text/x-python",
   "name": "python",
   "nbconvert_exporter": "python",
   "pygments_lexer": "ipython3",
   "version": "3.7.4"
  }
 },
 "nbformat": 4,
 "nbformat_minor": 2
}
